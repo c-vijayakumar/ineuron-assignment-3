{
 "cells": [
  {
   "cell_type": "markdown",
   "metadata": {},
   "source": [
    "### Task 1"
   ]
  },
  {
   "cell_type": "markdown",
   "metadata": {},
   "source": [
    "#### 1. Write a function to compute 5/0 and use try/except to catch the exceptions."
   ]
  },
  {
   "cell_type": "code",
   "execution_count": 7,
   "metadata": {
    "collapsed": false
   },
   "outputs": [],
   "source": [
    "def divide(numerator , denominator):\n",
    "    try:\n",
    "        return numerator/denominator\n",
    "    except:\n",
    "        print('error while dividing the numerator by denominator')"
   ]
  },
  {
   "cell_type": "code",
   "execution_count": 6,
   "metadata": {
    "collapsed": false
   },
   "outputs": [
    {
     "name": "stdout",
     "output_type": "stream",
     "text": [
      "error while dividing the numerator by denominator\n"
     ]
    }
   ],
   "source": [
    "divide(5,0)"
   ]
  },
  {
   "cell_type": "markdown",
   "metadata": {},
   "source": [
    "#### 2. Implement a Python program to generate all sentences where subject is in [\"Americans\",\"Indians\"] and verb is in [\"Play\", \"watch\"] and the object is in [\"Baseball\",\"cricket\"].\n",
    "\n",
    "Hint: Subject,Verb and Object should be declared in the program as shown below.\n",
    "\n",
    "subjects=[\"Americans \",\"Indians\"]\n",
    "verbs=[\"play\",\"watch\"]\n",
    "objects=[\"Baseball\",\"Cricket\"]"
   ]
  },
  {
   "cell_type": "code",
   "execution_count": 10,
   "metadata": {
    "collapsed": false
   },
   "outputs": [
    {
     "name": "stdout",
     "output_type": "stream",
     "text": [
      "Americans play Baseball\n",
      "Americans play Cricket\n",
      "Americans watch Baseball\n",
      "Americans watch Cricket\n",
      "Indians play Baseball\n",
      "Indians play Cricket\n",
      "Indians watch Baseball\n",
      "Indians watch Cricket\n"
     ]
    }
   ],
   "source": [
    "subjects = [\"Americans\", \"Indians\"]\n",
    "verbs = [\"play\", \"watch\"]\n",
    "objects = [\"Baseball\", \"Cricket\"]\n",
    "\n",
    "for sentence in ['{0} {1} {2}'.format(subject, verb, obj) for subject in subjects for verb in verbs for obj in objects ]:\n",
    "    print(sentence)"
   ]
  },
  {
   "cell_type": "markdown",
   "metadata": {},
   "source": [
    "### Task 2"
   ]
  },
  {
   "cell_type": "markdown",
   "metadata": {},
   "source": [
    "#### 1. Write a function so that the columns of the output matrix are powers of the input vector\n",
    "\n",
    "The order of the powers is determined by the increasing boolean argument.Specifically,when \n",
    "increasing is False, the i-thoutput column is the input vector raised element-wise to the power of N - i - 1.\n",
    "\n",
    "HINT:Such amatrix with ageometric progression in each row is named for Alexandre-Theophile Vandermonde."
   ]
  },
  {
   "cell_type": "code",
   "execution_count": 19,
   "metadata": {
    "collapsed": true
   },
   "outputs": [],
   "source": [
    "def vandermonde_matrix(x, N=None, increasing = False):\n",
    "    \n",
    "    if N == None : N = len(x)\n",
    "    if increasing:\n",
    "        return [ [element**p for p in range(0, N)] for element in x]\n",
    "    else:\n",
    "        return [ [element**p for p in range(N-1, -1, -1)] for element in x]"
   ]
  },
  {
   "cell_type": "code",
   "execution_count": 20,
   "metadata": {
    "collapsed": false
   },
   "outputs": [
    {
     "name": "stdout",
     "output_type": "stream",
     "text": [
      "[[1, 1, 1, 1], [8, 4, 2, 1], [27, 9, 3, 1], [125, 25, 5, 1]]\n"
     ]
    }
   ],
   "source": [
    "print ( vandermonde_matrix([1, 2, 3, 5]))"
   ]
  },
  {
   "cell_type": "code",
   "execution_count": 21,
   "metadata": {
    "collapsed": false
   },
   "outputs": [
    {
     "name": "stdout",
     "output_type": "stream",
     "text": [
      "[[1, 1, 1, 1], [8, 4, 2, 1], [27, 9, 3, 1], [125, 25, 5, 1]]\n"
     ]
    }
   ],
   "source": [
    "print ( vandermonde_matrix([1, 2, 3, 5], N=4 ) )"
   ]
  },
  {
   "cell_type": "code",
   "execution_count": 22,
   "metadata": {
    "collapsed": false
   },
   "outputs": [
    {
     "name": "stdout",
     "output_type": "stream",
     "text": [
      "[[1, 1, 1, 1], [1, 2, 4, 8], [1, 3, 9, 27], [1, 5, 25, 125]]\n"
     ]
    }
   ],
   "source": [
    "print ( vandermonde_matrix([1, 2, 3, 5], N=4, increasing=True ) )"
   ]
  }
 ],
 "metadata": {
  "anaconda-cloud": {},
  "kernelspec": {
   "display_name": "Python [default]",
   "language": "python",
   "name": "python3"
  },
  "language_info": {
   "codemirror_mode": {
    "name": "ipython",
    "version": 3
   },
   "file_extension": ".py",
   "mimetype": "text/x-python",
   "name": "python",
   "nbconvert_exporter": "python",
   "pygments_lexer": "ipython3",
   "version": "3.5.2"
  }
 },
 "nbformat": 4,
 "nbformat_minor": 1
}
